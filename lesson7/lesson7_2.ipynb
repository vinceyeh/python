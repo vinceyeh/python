{
 "cells": [
  {
   "cell_type": "code",
   "execution_count": 1,
   "metadata": {},
   "outputs": [
    {
     "name": "stdout",
     "output_type": "stream",
     "text": [
      "請輸入這個月存的金額:2000\n",
      "請輸入這個月存的金額:5000\n",
      "請輸入這個月存的金額:10000\n",
      "請輸入這個月存的金額:20000\n",
      "最後一次存的金額是:20000\n",
      "小明已經存了37000元\n"
     ]
    }
   ],
   "source": [
    "#小明想要存錢買一輛機車,機車每輛30000元，他將每月存的錢輸入，當存款足夠買機車時，就顯示提示訊息告知。\n",
    "\n",
    "import pyinputplus as pyip\n",
    "deposit = 0\n",
    "while deposit < 30000:\n",
    "    input_money = pyip.inputInt(\"請輸入這個月存的金額:\")\n",
    "    print(input_money)\n",
    "    deposit += input_money\n",
    "print(f\"最後一次存的金額是:{input_money}\")\n",
    "print(f\"小明已經存了{deposit}元\")"
   ]
  },
  {
   "cell_type": "code",
   "execution_count": null,
   "metadata": {},
   "outputs": [],
   "source": [
    "#小明想要存錢買一輛機車,機車每輛30000元，他將每月存的錢輸入，當存款足夠買機車時，就顯示提示訊息告知。\n",
    "\n",
    "import pyinputplus as pyip\n",
    "deposit = 0\n",
    "num = 0\n",
    "while deposit < 30000:\n",
    "    input_money = pyip.inputInt(f\"請輸入第{num+1}月存的金額:\")\n",
    "    print(input_money)\n",
    "    deposit += input_money\n",
    "    num += 1\n",
    "print(f\"最後一次存的金額是:{input_money}\")\n",
    "print(f\"小明總共存了{num}個月,已經存了{deposit}元\")"
   ]
  },
  {
   "cell_type": "code",
   "execution_count": null,
   "metadata": {},
   "outputs": [],
   "source": [
    "import pyinputplus as pyip\n",
    "deposit = 0\n",
    "num = 0\n",
    "while True:\n",
    "    num += 1\n",
    "    input_money = pyip.inputInt(f\"請輸入第{num}月存的金額:\")\n",
    "    print(input_money)    \n",
    "    deposit += input_money\n",
    "    if deposit >= 30000:\n",
    "        break\n",
    "    \n",
    "print(f\"最後一次存的金額是:{input_money}\")\n",
    "print(f\"小明總共存了{num}個月,已經存了{deposit}元\")"
   ]
  },
  {
   "cell_type": "code",
   "execution_count": null,
   "metadata": {},
   "outputs": [],
   "source": [
    "#請輸入整數,輸入[q]離開:\n",
    "#顯示:\n",
    "#奇數輸出平方\n",
    "#偶數不做任何動作\n",
    "#'q'要離開\n",
    "\n",
    "while(True):\n",
    "    value = input(\"請輸入整數,輸入[q]離開:\")\n",
    "    if value == 'q':\n",
    "        break\n",
    "    try:\n",
    "        valueInt = int(value)\n",
    "    except:\n",
    "        print(\"輸入錯誤\")\n",
    "        continue\n",
    "    \n",
    "    if valueInt % 2 == 1:\n",
    "        print(f\"{valueInt}的平方是{valueInt ** 2}\")\n",
    "    else:\n",
    "        print(\"不做事\")\n",
    "\n",
    "print(\"應用程式結束\")"
   ]
  }
 ],
 "metadata": {
  "kernelspec": {
   "display_name": "Python 3",
   "language": "python",
   "name": "python3"
  },
  "language_info": {
   "codemirror_mode": {
    "name": "ipython",
    "version": 3
   },
   "file_extension": ".py",
   "mimetype": "text/x-python",
   "name": "python",
   "nbconvert_exporter": "python",
   "pygments_lexer": "ipython3",
   "version": "3.10.14"
  }
 },
 "nbformat": 4,
 "nbformat_minor": 2
}
