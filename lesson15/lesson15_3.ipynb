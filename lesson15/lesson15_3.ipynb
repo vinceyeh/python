{
 "cells": [
  {
   "cell_type": "code",
   "execution_count": 1,
   "metadata": {},
   "outputs": [
    {
     "name": "stdout",
     "output_type": "stream",
     "text": [
      "144\n",
      "========\n",
      "170\n",
      "========\n",
      "164\n",
      "========\n",
      "167\n",
      "========\n",
      "177\n",
      "========\n"
     ]
    }
   ],
   "source": [
    "student1 = [69, 78, 72, 91, 85]\n",
    "student2 = [75, 92, 92, 76, 92]\n",
    "\n",
    "for i in range(len(student1)):\n",
    "    scores = student1[i] + student2[i]\n",
    "    print(scores)\n",
    "    print(\"========\")"
   ]
  },
  {
   "cell_type": "code",
   "execution_count": 3,
   "metadata": {},
   "outputs": [
    {
     "data": {
      "text/plain": [
       "[69, 78, 72, 91, 85, 75, 92, 92, 76, 92]"
      ]
     },
     "execution_count": 3,
     "metadata": {},
     "output_type": "execute_result"
    }
   ],
   "source": [
    "student1 = [69, 78, 72, 91, 85]\n",
    "student2 = [75, 92, 92, 76, 92]\n",
    "\n",
    "student1 + student2"
   ]
  },
  {
   "cell_type": "code",
   "execution_count": 5,
   "metadata": {},
   "outputs": [
    {
     "name": "stdout",
     "output_type": "stream",
     "text": [
      "144\n",
      "=========\n",
      "170\n",
      "=========\n",
      "164\n",
      "=========\n",
      "167\n",
      "=========\n",
      "177\n",
      "=========\n"
     ]
    }
   ],
   "source": [
    "import numpy as np\n",
    "from numpy import ndarray\n",
    "student1:ndarray = np.array([69, 78, 72, 91, 85])\n",
    "student2:ndarray = np.array([75, 92, 92, 76, 92])\n",
    "\n",
    "#可以做陣列運算,不需使用for...in\n",
    "totols:ndarray= student1 + student2\n",
    "for total in totols:\n",
    "    print(total)\n",
    "    print(\"=========\")"
   ]
  },
  {
   "cell_type": "code",
   "execution_count": 6,
   "metadata": {},
   "outputs": [
    {
     "name": "stdout",
     "output_type": "stream",
     "text": [
      "[[1 2 3]\n",
      " [4 5 6]]\n",
      "2\n",
      "(2, 3)\n",
      "6\n",
      "int64\n"
     ]
    }
   ],
   "source": [
    "array:ndarray = np.array([[1,2,3],[4,5,6]])\n",
    "print(array)\n",
    "#property\n",
    "#ndim,shape,size,dtype\n",
    "\n",
    "print(array.ndim)\n",
    "print(array.shape)\n",
    "print(array.size)\n",
    "print(array.dtype)"
   ]
  },
  {
   "cell_type": "code",
   "execution_count": 8,
   "metadata": {},
   "outputs": [
    {
     "data": {
      "text/plain": [
       "array([[ 61,  62, 100,  94,  61],\n",
       "       [ 92,  69,  98,  65,  63],\n",
       "       [ 88,  91,  70,  88,  94],\n",
       "       [ 97,  65,  78,  77,  69],\n",
       "       [ 63,  62,  84,  91,  97],\n",
       "       [ 76,  76, 100,  98,  60],\n",
       "       [ 94,  65,  95,  76,  64],\n",
       "       [ 71,  81,  97,  74,  83],\n",
       "       [ 85,  64,  63,  67,  95],\n",
       "       [ 93,  85,  96,  79,  98],\n",
       "       [ 71,  77,  83,  95,  62],\n",
       "       [ 64,  77,  61,  75,  92],\n",
       "       [ 85,  86,  61,  63,  60],\n",
       "       [ 65,  63,  99,  68,  62],\n",
       "       [ 89,  84,  84,  76,  90],\n",
       "       [ 99, 100,  65,  82,  74],\n",
       "       [ 76,  96,  66,  75,  97],\n",
       "       [ 62,  88,  82,  98,  80],\n",
       "       [ 98,  87,  99,  90,  91],\n",
       "       [ 83,  63, 100,  65,  67],\n",
       "       [100,  60,  86,  68,  77],\n",
       "       [100,  61,  70,  96,  65],\n",
       "       [ 64,  79,  75,  74,  95],\n",
       "       [ 76,  98,  66,  86,  80],\n",
       "       [ 82,  85,  86,  80,  63],\n",
       "       [ 86,  86,  90,  87,  83],\n",
       "       [ 75,  92,  64, 100,  76],\n",
       "       [ 93,  96,  66,  64, 100],\n",
       "       [ 92,  98,  85,  72,  77],\n",
       "       [ 71,  97,  91,  67,  62],\n",
       "       [ 88,  67,  96,  66,  83],\n",
       "       [ 67,  68,  80,  60,  98],\n",
       "       [ 92,  78,  89,  93,  76],\n",
       "       [ 99,  87,  68,  93,  95],\n",
       "       [ 65,  76,  62,  94,  86],\n",
       "       [100,  67,  73,  80,  79],\n",
       "       [ 97,  90,  72,  66,  92],\n",
       "       [ 76,  82,  96,  83,  74],\n",
       "       [ 88,  89,  67,  60,  77],\n",
       "       [ 86,  96,  90,  75,  84],\n",
       "       [ 82,  91,  78,  88,  66],\n",
       "       [ 90,  85,  94,  78,  72],\n",
       "       [ 64,  87,  63,  80,  88],\n",
       "       [ 65,  94,  91,  64,  98],\n",
       "       [ 66,  76,  88,  73,  78],\n",
       "       [ 66,  62,  73,  68,  60],\n",
       "       [ 61,  69,  60,  79,  72],\n",
       "       [ 87,  90,  64,  63,  76],\n",
       "       [ 70,  98,  71,  90,  87],\n",
       "       [ 83,  68,  94,  95,  62]])"
      ]
     },
     "execution_count": 8,
     "metadata": {},
     "output_type": "execute_result"
    }
   ],
   "source": [
    "np.random.randint(60,101,size=(50, 5))"
   ]
  }
 ],
 "metadata": {
  "kernelspec": {
   "display_name": "Python 3",
   "language": "python",
   "name": "python3"
  },
  "language_info": {
   "codemirror_mode": {
    "name": "ipython",
    "version": 3
   },
   "file_extension": ".py",
   "mimetype": "text/x-python",
   "name": "python",
   "nbconvert_exporter": "python",
   "pygments_lexer": "ipython3",
   "version": "3.10.14"
  }
 },
 "nbformat": 4,
 "nbformat_minor": 2
}
