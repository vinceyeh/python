{
 "cells": [
  {
   "cell_type": "code",
   "execution_count": 1,
   "metadata": {},
   "outputs": [
    {
     "name": "stdout",
     "output_type": "stream",
     "text": [
      "下載成功\n"
     ]
    }
   ],
   "source": [
    "import requests\n",
    "youbike_url = 'https://tcgbusfs.blob.core.windows.net/dotapp/youbike/v2/youbike_immediate.json'\n",
    "\n",
    "res = requests.get(youbike_url)\n",
    "if res.status_code == 200:\n",
    "    print(\"下載成功\")\n",
    "else:\n",
    "    print(\"下載失敗\")"
   ]
  },
  {
   "cell_type": "code",
   "execution_count": null,
   "metadata": {},
   "outputs": [],
   "source": [
    "from pydantic import BaseModel,Field,RootModel,field_validator\n",
    "\n",
    "class Site(BaseModel):\n",
    "    站名:str = Field(alias='sna')\n",
    "    總車輛數:int = Field(alias='total')\n",
    "    可借:int = Field(alias='available_rent_bikes')\n",
    "    可還:int = Field(alias='available_return_bikes')\n",
    "    狀態:bool = Field(alias='act')\n",
    "\n",
    "    @field_validator(\"站名\")\n",
    "    @classmethod\n",
    "    def abc(cls,value:str)->str:\n",
    "        return value.split(\"_\")[-1]\n",
    "\n",
    "class YouBike(RootModel):\n",
    "    root: list[Site]\n",
    "    def __iter__(self):\n",
    "        return iter(self.root)\n",
    "\n",
    "    def __getitem__(self, item):\n",
    "        return self.root[item]\n",
    "    \n",
    "\n",
    "data:YouBike = YouBike.model_validate_json(res.text)\n",
    "\n",
    "for site in data:\n",
    "    print(site)"
   ]
  }
 ],
 "metadata": {
  "kernelspec": {
   "display_name": "Python 3",
   "language": "python",
   "name": "python3"
  },
  "language_info": {
   "codemirror_mode": {
    "name": "ipython",
    "version": 3
   },
   "file_extension": ".py",
   "mimetype": "text/x-python",
   "name": "python",
   "nbconvert_exporter": "python",
   "pygments_lexer": "ipython3",
   "version": "3.10.14"
  }
 },
 "nbformat": 4,
 "nbformat_minor": 2
}
