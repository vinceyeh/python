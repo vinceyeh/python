{
 "cells": [
  {
   "cell_type": "code",
   "execution_count": 1,
   "metadata": {},
   "outputs": [
    {
     "name": "stdout",
     "output_type": "stream",
     "text": [
      "下載成功\n"
     ]
    }
   ],
   "source": [
    "import requests\n",
    "from requests import Response\n",
    "aqi_url = 'https://data.moenv.gov.tw/api/v2/aqx_p_488?api_key=e8dd42e6-9b8b-43f8-991e-b3dee723a52d&limit=1000&sort=datacreationdate desc&format=JSON'\n",
    "\n",
    "res:Response = requests.get(aqi_url)\n",
    "if res.status_code == 200:\n",
    "    print(\"下載成功\")\n",
    "else:\n",
    "    print(\"下載失敗\")"
   ]
  },
  {
   "cell_type": "code",
   "execution_count": 2,
   "metadata": {},
   "outputs": [],
   "source": [
    "#自訂的欄位驗証\n",
    "from pydantic import BaseModel,Field,field_validator\n",
    "\n",
    "class Site(BaseModel):\n",
    "    site_name:str = Field(alias='sitename')\n",
    "    county:str\n",
    "    aqi:int\n",
    "    status:str\n",
    "    pm25:float = Field(alias='pm2.5')\n",
    "\n",
    "    @field_validator(\"pm25\",mode='before')\n",
    "    @classmethod\n",
    "    def whitespace_to_zero(cls,value:str)->str:\n",
    "        if value == '':\n",
    "            return '0.0'\n",
    "        else:\n",
    "            return value\n",
    "\n",
    "class AQI(BaseModel):\n",
    "    records:list[Site]"
   ]
  },
  {
   "cell_type": "code",
   "execution_count": null,
   "metadata": {},
   "outputs": [],
   "source": [
    "data1:AQI = AQI.model_validate_json(res.text)\n",
    "for item in data1.records:\n",
    "    print(item)"
   ]
  }
 ],
 "metadata": {
  "kernelspec": {
   "display_name": "Python 3",
   "language": "python",
   "name": "python3"
  },
  "language_info": {
   "codemirror_mode": {
    "name": "ipython",
    "version": 3
   },
   "file_extension": ".py",
   "mimetype": "text/x-python",
   "name": "python",
   "nbconvert_exporter": "python",
   "pygments_lexer": "ipython3",
   "version": "3.10.14"
  }
 },
 "nbformat": 4,
 "nbformat_minor": 2
}
