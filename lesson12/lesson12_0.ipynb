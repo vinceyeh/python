{
 "cells": [
  {
   "cell_type": "code",
   "execution_count": null,
   "metadata": {},
   "outputs": [],
   "source": [
    "from pydantic import BaseModel, Field\n",
    "class Person(BaseModel):\n",
    "    name: str\n",
    "    website: str\n",
    "    from_: str = Field(alias='from')\n",
    "\n",
    "class Data(BaseModel):\n",
    "    people: list[Person]\n",
    "\n",
    "with open('data.json', encoding='utf-8') as file:\n",
    "    constent:str = file.read()\n",
    "    data: Data= Data.model_validate_json(constent)\n",
    "\n",
    "data_list: list[Person] = data.people\n",
    "for item in data_list:\n",
    "    print(item)"
   ]
  },
  {
   "cell_type": "code",
   "execution_count": null,
   "metadata": {},
   "outputs": [],
   "source": [
    "from pprint import pprint\n",
    "data_dict:dict = data.model_dump()\n",
    "pprint(data_dict)"
   ]
  }
 ],
 "metadata": {
  "kernelspec": {
   "display_name": "Python 3",
   "language": "python",
   "name": "python3"
  },
  "language_info": {
   "name": "python",
   "version": "3.10.14"
  }
 },
 "nbformat": 4,
 "nbformat_minor": 2
}
